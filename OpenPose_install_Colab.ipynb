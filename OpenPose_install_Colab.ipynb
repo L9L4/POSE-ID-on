{
 "cells": [
  {
   "cell_type": "markdown",
   "metadata": {
    "colab_type": "text",
    "id": "X38L6tanrnrB"
   },
   "source": [
    "# Pose Detection with OpenPose\n",
    "\n",
    "This notebook uses an open source project [CMU-Perceptual-Computing-Lab/openpose](https://github.com/CMU-Perceptual-Computing-Lab/openpose.git).\n",
    "\n",
    "Credits: [tugstugi/dl-colab-notebooks](https://github.com/tugstugi/dl-colab-notebooks).\n",
    "\n",
    "Working on Colab or on Linux. For other compatibilities see: [CMU-Perceptual-Computing-Lab/openpose](https://github.com/CMU-Perceptual-Computing-Lab/openpose.git)."
   ]
  },
  {
   "cell_type": "markdown",
   "metadata": {
    "colab_type": "text",
    "id": "opx5IgxKoMfH"
   },
   "source": [
    "## Install OpenPose"
   ]
  },
  {
   "cell_type": "code",
   "execution_count": 1,
   "metadata": {
    "colab": {},
    "colab_type": "code",
    "id": "n1QDZP-f6Rxw"
   },
   "outputs": [],
   "source": [
    "import os\n",
    "from os.path import exists, join, basename, splitext\n",
    "import time "
   ]
  },
  {
   "cell_type": "code",
   "execution_count": null,
   "metadata": {},
   "outputs": [],
   "source": [
    "start = time.time()\n",
    "\n",
    "git_repo_url = 'https://github.com/CMU-Perceptual-Computing-Lab/openpose.git'\n",
    "project_name = splitext(basename(git_repo_url))[0]\n",
    "if not exists(project_name):\n",
    "    # see: https://github.com/CMU-Perceptual-Computing-Lab/openpose/issues/949\n",
    "    # install new CMake because of CUDA10\n",
    "    !wget -q https://cmake.org/files/v3.13/cmake-3.13.0-Linux-x86_64.tar.gz\n",
    "    !tar xfz cmake-3.13.0-Linux-x86_64.tar.gz --strip-components=1 -C /usr/local\n",
    "    # clone openpose\n",
    "    !git clone -q --depth 1 $git_repo_url\n",
    "    !sed -i 's/execute_process(COMMAND git checkout master WORKING_DIRECTORY ${CMAKE_SOURCE_DIR}\\/3rdparty\\/caffe)/execute_process(COMMAND git checkout f019d0dfe86f49d1140961f8c7dec22130c83154 WORKING_DIRECTORY ${CMAKE_SOURCE_DIR}\\/3rdparty\\/caffe)/g' openpose/CMakeLists.txt\n",
    "    # install system dependencies\n",
    "    !apt-get -qq install -y libatlas-base-dev libprotobuf-dev libleveldb-dev libsnappy-dev libhdf5-serial-dev protobuf-compiler libgflags-dev libgoogle-glog-dev liblmdb-dev opencl-headers ocl-icd-opencl-dev libviennacl-dev\n",
    "    # build openpose\n",
    "    !cd openpose && rm -rf build || true && mkdir build && cd build && cmake .. && make -j`nproc`\n",
    "\n",
    "end = time.time()\n",
    "print((end-start)/60)"
   ]
  },
  {
   "cell_type": "markdown",
   "metadata": {
    "colab_type": "text",
    "id": "lRkPykChoHNz"
   },
   "source": [
    "## Detect pose on images"
   ]
  },
  {
   "cell_type": "code",
   "execution_count": null,
   "metadata": {
    "colab": {
     "base_uri": "https://localhost:8080/",
     "height": 98
    },
    "colab_type": "code",
    "id": "MtQ6S-j3oGtD",
    "outputId": "d1cf77dc-acb5-4d86-aa71-e23721f256e6"
   },
   "outputs": [],
   "source": [
    "# directory with images\n",
    "dir_im = 'path/to/images'\n",
    "# directory where to write output images\n",
    "output_im = 'path/to/output/images'\n",
    "# directory where to write output joints\n",
    "output_joints = 'path/to/output/joints'\n",
    "\n",
    "!cd openpose && ./build/examples/openpose/openpose.bin --image_dir dir_im --display 0 --write_images output_im --write_json output_joints"
   ]
  }
 ],
 "metadata": {
  "accelerator": "GPU",
  "colab": {
   "collapsed_sections": [],
   "name": "defOpenPose.ipynb",
   "provenance": [],
   "toc_visible": true
  },
  "kernelspec": {
   "display_name": "Python 3",
   "language": "python",
   "name": "python3"
  },
  "language_info": {
   "codemirror_mode": {
    "name": "ipython",
    "version": 3
   },
   "file_extension": ".py",
   "mimetype": "text/x-python",
   "name": "python",
   "nbconvert_exporter": "python",
   "pygments_lexer": "ipython3",
   "version": "3.7.4"
  }
 },
 "nbformat": 4,
 "nbformat_minor": 1
}
